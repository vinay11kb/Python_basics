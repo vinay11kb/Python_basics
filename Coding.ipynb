{
 "cells": [
  {
   "cell_type": "code",
   "execution_count": 2,
   "id": "0540d389",
   "metadata": {},
   "outputs": [
    {
     "name": "stdout",
     "output_type": "stream",
     "text": [
      "yes\n"
     ]
    }
   ],
   "source": [
    "#pallindrome\n",
    "s=\"bob\"\n",
    "r=s[::-1]\n",
    "\n",
    "if r==s:\n",
    "    print(\"yes\")\n",
    "else:\n",
    "    print(\"No\")"
   ]
  },
  {
   "cell_type": "code",
   "execution_count": 3,
   "id": "4a7f72fc",
   "metadata": {},
   "outputs": [
    {
     "data": {
      "text/plain": [
       "'code practice quiz geeks'"
      ]
     },
     "execution_count": 3,
     "metadata": {},
     "output_type": "execute_result"
    }
   ],
   "source": [
    "#reverse words\n",
    "str =\"geeks quiz practice code\"\n",
    "li=str.split(\" \")\n",
    "k=\" \".join(li[::-1])\n",
    "k"
   ]
  },
  {
   "cell_type": "code",
   "execution_count": 5,
   "id": "51fcd352",
   "metadata": {},
   "outputs": [
    {
     "data": {
      "text/plain": [
       "'GeeksForGeeks'"
      ]
     },
     "execution_count": 5,
     "metadata": {},
     "output_type": "execute_result"
    }
   ],
   "source": [
    "#remove ith char from string\n",
    "k='Geeks123For123Geeks'\n",
    "\n",
    "j=k.replace(\"123\",\"\")\n",
    "j\n"
   ]
  },
  {
   "cell_type": "code",
   "execution_count": 19,
   "id": "76c4facd",
   "metadata": {},
   "outputs": [
    {
     "name": "stdout",
     "output_type": "stream",
     "text": [
      "yes\n"
     ]
    }
   ],
   "source": [
    "#accept the string contain vowel\n",
    "st=\"ABeeIghiObhkUul\"\n",
    "k=st.lower()\n",
    "\n",
    "\n",
    "li=[k.count(\"a\"),k.count(\"e\"),k.count(\"i\"),k.count(\"o\"),k.count(\"u\")]\n",
    "\n",
    "if li.count(0)>0:\n",
    "    print(\"not\")\n",
    "else:\n",
    "    print(\"yes\")\n",
    "        "
   ]
  },
  {
   "cell_type": "code",
   "execution_count": 10,
   "id": "7b900495",
   "metadata": {},
   "outputs": [
    {
     "name": "stdout",
     "output_type": "stream",
     "text": [
      "f\n",
      "o\n",
      "r\n"
     ]
    }
   ],
   "source": [
    "#least freq char\n",
    "tr = \"GeeksforGeeks\"\n",
    "\n",
    "\n",
    "jk={}\n",
    "for i in tr:\n",
    "    jk[i]=jk.get(i,0) +1\n",
    "vm=list(jk.values())\n",
    "m=min(vm)\n",
    "\n",
    "for i in jk:\n",
    "    if jk[i]==m:\n",
    "        print(i)"
   ]
  }
 ],
 "metadata": {
  "kernelspec": {
   "display_name": "Python 3 (ipykernel)",
   "language": "python",
   "name": "python3"
  },
  "language_info": {
   "codemirror_mode": {
    "name": "ipython",
    "version": 3
   },
   "file_extension": ".py",
   "mimetype": "text/x-python",
   "name": "python",
   "nbconvert_exporter": "python",
   "pygments_lexer": "ipython3",
   "version": "3.9.13"
  }
 },
 "nbformat": 4,
 "nbformat_minor": 5
}
