{
 "cells": [
  {
   "cell_type": "code",
   "execution_count": 1,
   "id": "73222915",
   "metadata": {},
   "outputs": [],
   "source": [
    "#parent class\n",
    "class Vehicle:\n",
    "    def __init__(self,make,model,fuel):\n",
    "        self.make=make\n",
    "        self.model=model\n",
    "        self.fuel=fuel\n",
    "        "
   ]
  },
  {
   "cell_type": "code",
   "execution_count": 6,
   "id": "e5bb6871",
   "metadata": {},
   "outputs": [],
   "source": [
    "#child class\n",
    "#pass parent class\n",
    "class Car(Vehicle):\n",
    "    def __init__(self,make,model,fuel,AC,sunroof):\n",
    "        #parent attributes we are inheriting\n",
    "        Vehicle.make=make\n",
    "        Vehicle.model=model\n",
    "        Vehicle.fuel=fuel\n",
    "        \n",
    "        self.AC=AC\n",
    "        self.sunroof=sunroof\n",
    "    \n",
    "    def show_parent_att(self):\n",
    "        print(Vehicle.make,\" \",Vehicle.model,\" \",Vehicle.fuel)\n",
    "        \n",
    "        \n",
    "        \n",
    "        \n",
    "    \n",
    "    "
   ]
  },
  {
   "cell_type": "code",
   "execution_count": 7,
   "id": "9b282373",
   "metadata": {},
   "outputs": [],
   "source": [
    "myObj=Car(\"tesla\",2019,\"Electric\",True,True)"
   ]
  },
  {
   "cell_type": "code",
   "execution_count": 4,
   "id": "6d5fa272",
   "metadata": {},
   "outputs": [
    {
     "data": {
      "text/plain": [
       "{'AC': True, 'sunroof': True}"
      ]
     },
     "execution_count": 4,
     "metadata": {},
     "output_type": "execute_result"
    }
   ],
   "source": [
    "myObj.__dict__ #shows only the child attributes"
   ]
  },
  {
   "cell_type": "code",
   "execution_count": 8,
   "id": "cc48417f",
   "metadata": {},
   "outputs": [
    {
     "name": "stdout",
     "output_type": "stream",
     "text": [
      "tesla   2019   Electric\n"
     ]
    }
   ],
   "source": [
    "myObj.show_parent_att()"
   ]
  },
  {
   "cell_type": "code",
   "execution_count": 9,
   "id": "3de5b0e1",
   "metadata": {},
   "outputs": [
    {
     "data": {
      "text/plain": [
       "'tesla'"
      ]
     },
     "execution_count": 9,
     "metadata": {},
     "output_type": "execute_result"
    }
   ],
   "source": [
    "myObj.make"
   ]
  }
 ],
 "metadata": {
  "kernelspec": {
   "display_name": "Python 3 (ipykernel)",
   "language": "python",
   "name": "python3"
  },
  "language_info": {
   "codemirror_mode": {
    "name": "ipython",
    "version": 3
   },
   "file_extension": ".py",
   "mimetype": "text/x-python",
   "name": "python",
   "nbconvert_exporter": "python",
   "pygments_lexer": "ipython3",
   "version": "3.9.13"
  }
 },
 "nbformat": 4,
 "nbformat_minor": 5
}
