{
 "cells": [
  {
   "cell_type": "code",
   "execution_count": 1,
   "id": "7596c3a7",
   "metadata": {},
   "outputs": [],
   "source": [
    "class Expense:\n",
    "    #class attributes\n",
    "    version=0.1\n",
    "    def __init__(self,category,balance,budget):\n",
    "        #instance/objects attributes\n",
    "        self.category=category\n",
    "        self.balance=balance\n",
    "        self.budget=budget\n",
    "        "
   ]
  },
  {
   "cell_type": "code",
   "execution_count": 2,
   "id": "00fc4dfb",
   "metadata": {},
   "outputs": [],
   "source": [
    "h_track=Expense(\"home\",0,1000)"
   ]
  },
  {
   "cell_type": "code",
   "execution_count": 3,
   "id": "d0f1dda1",
   "metadata": {},
   "outputs": [],
   "source": [
    "shop=Expense(\"shop\",200,2000)"
   ]
  },
  {
   "cell_type": "code",
   "execution_count": 5,
   "id": "1e1a19b2",
   "metadata": {},
   "outputs": [
    {
     "data": {
      "text/plain": [
       "2000"
      ]
     },
     "execution_count": 5,
     "metadata": {},
     "output_type": "execute_result"
    }
   ],
   "source": [
    "getattr(shop,\"budget\")"
   ]
  },
  {
   "cell_type": "code",
   "execution_count": 6,
   "id": "764b95b0",
   "metadata": {},
   "outputs": [
    {
     "data": {
      "text/plain": [
       "1000"
      ]
     },
     "execution_count": 6,
     "metadata": {},
     "output_type": "execute_result"
    }
   ],
   "source": [
    "h_track.budget"
   ]
  },
  {
   "cell_type": "code",
   "execution_count": 7,
   "id": "02ef49d6",
   "metadata": {},
   "outputs": [
    {
     "data": {
      "text/plain": [
       "{'category': 'home', 'balance': 0, 'budget': 1000}"
      ]
     },
     "execution_count": 7,
     "metadata": {},
     "output_type": "execute_result"
    }
   ],
   "source": [
    "h_track.__dict__  #class attribute nhi dikhega"
   ]
  },
  {
   "cell_type": "code",
   "execution_count": 8,
   "id": "5b3cd693",
   "metadata": {},
   "outputs": [
    {
     "data": {
      "text/plain": [
       "0.1"
      ]
     },
     "execution_count": 8,
     "metadata": {},
     "output_type": "execute_result"
    }
   ],
   "source": [
    "h_track.version #class attribute ko access kr skte hai\n",
    "#class attribute remians same where as instance attribute changes"
   ]
  },
  {
   "cell_type": "code",
   "execution_count": 10,
   "id": "70acadf9",
   "metadata": {},
   "outputs": [
    {
     "data": {
      "text/plain": [
       "0.2"
      ]
     },
     "execution_count": 10,
     "metadata": {},
     "output_type": "execute_result"
    }
   ],
   "source": [
    "h_track.version=0.2 #class attribute changes only for this instance\n",
    "\n",
    "h_track.version"
   ]
  },
  {
   "cell_type": "code",
   "execution_count": 11,
   "id": "a6eb840a",
   "metadata": {},
   "outputs": [
    {
     "data": {
      "text/plain": [
       "0.1"
      ]
     },
     "execution_count": 11,
     "metadata": {},
     "output_type": "execute_result"
    }
   ],
   "source": [
    "shop.version #here it is samne"
   ]
  }
 ],
 "metadata": {
  "kernelspec": {
   "display_name": "Python 3 (ipykernel)",
   "language": "python",
   "name": "python3"
  },
  "language_info": {
   "codemirror_mode": {
    "name": "ipython",
    "version": 3
   },
   "file_extension": ".py",
   "mimetype": "text/x-python",
   "name": "python",
   "nbconvert_exporter": "python",
   "pygments_lexer": "ipython3",
   "version": "3.9.13"
  }
 },
 "nbformat": 4,
 "nbformat_minor": 5
}
