{
 "cells": [
  {
   "cell_type": "markdown",
   "id": "fff7cbe5",
   "metadata": {},
   "source": []
  },
  {
   "cell_type": "code",
   "execution_count": 1,
   "id": "588c914c",
   "metadata": {},
   "outputs": [
    {
     "data": {
      "text/plain": [
       "'Ab'"
      ]
     },
     "execution_count": 1,
     "metadata": {},
     "output_type": "execute_result"
    }
   ],
   "source": [
    "\"A\"+\"b\""
   ]
  },
  {
   "cell_type": "code",
   "execution_count": 3,
   "id": "c3c3e2d1",
   "metadata": {},
   "outputs": [
    {
     "data": {
      "text/plain": [
       "4"
      ]
     },
     "execution_count": 3,
     "metadata": {},
     "output_type": "execute_result"
    }
   ],
   "source": [
    "len([1,2,3,4])"
   ]
  },
  {
   "cell_type": "code",
   "execution_count": 2,
   "id": "cd7734e2",
   "metadata": {},
   "outputs": [],
   "source": [
    "#parent \n",
    "class Vehicle:\n",
    "    current_year=2022\n",
    "    base_price=1000\n",
    "    def __init__(self,make,model,fuel):\n",
    "        self.make=make\n",
    "        self.__model=model\n",
    "        self.__fuel=fuel\n",
    "    \n",
    "    def __pvt_meth(self):\n",
    "        print(\"this is private\")\n",
    "    \n",
    "    #default function to gte value\n",
    "    def get_value(self):\n",
    "        age= Vehicle.current_year - self.__model  #class attribute  name.attribute\n",
    "        print(\"parent method\")\n",
    "        return Vehicle.base_price *(1/age)\n",
    "        "
   ]
  },
  {
   "cell_type": "code",
   "execution_count": 3,
   "id": "cfb493c9",
   "metadata": {},
   "outputs": [],
   "source": [
    "#child class\n",
    "class car(Vehicle):\n",
    "    def __init__(self,make,model,fuel,AC,sunroof):\n",
    "        #use super\n",
    "        super(car,self).__init__(make,model,fuel)\n",
    "        \n",
    "        self.AC=AC\n",
    "        self.sunroof=sunroof\n",
    "        \n",
    "        def show_private(self):\n",
    "            self._Vehicle__pvt_meth()\n",
    "        \n",
    "        #overriding method- replaces parent default method\n",
    "        #define same function\n",
    "        def get_value(self):\n",
    "            Vehicle.base_price=5000\n",
    "            age= Vehicle.current_year - self._Vehicle__model  #class attribute  name.attribute\n",
    "            print(\"override method\")\n",
    "            return Vehicle.base_price *(1/age)"
   ]
  },
  {
   "cell_type": "code",
   "execution_count": 4,
   "id": "81ed93ea",
   "metadata": {},
   "outputs": [],
   "source": [
    "obj=car(\"tesla\",2019,\"Elec\",True,True)"
   ]
  },
  {
   "cell_type": "code",
   "execution_count": 6,
   "id": "8a93e890",
   "metadata": {},
   "outputs": [
    {
     "name": "stdout",
     "output_type": "stream",
     "text": [
      "parent method\n"
     ]
    },
    {
     "data": {
      "text/plain": [
       "333.3333333333333"
      ]
     },
     "execution_count": 6,
     "metadata": {},
     "output_type": "execute_result"
    }
   ],
   "source": [
    "obj.get_value() #get the override method in child class"
   ]
  },
  {
   "cell_type": "code",
   "execution_count": 11,
   "id": "05839f03",
   "metadata": {},
   "outputs": [],
   "source": [
    "parentobj=Vehicle(\"ford\",2022,\"elec\") #make paremt object"
   ]
  },
  {
   "cell_type": "code",
   "execution_count": 10,
   "id": "b3e3802c",
   "metadata": {},
   "outputs": [
    {
     "name": "stdout",
     "output_type": "stream",
     "text": [
      "parent method\n"
     ]
    },
    {
     "ename": "ZeroDivisionError",
     "evalue": "division by zero",
     "output_type": "error",
     "traceback": [
      "\u001b[1;31m---------------------------------------------------------------------------\u001b[0m",
      "\u001b[1;31mZeroDivisionError\u001b[0m                         Traceback (most recent call last)",
      "\u001b[1;32m~\\AppData\\Local\\Temp\\ipykernel_2736\\179795022.py\u001b[0m in \u001b[0;36m<module>\u001b[1;34m\u001b[0m\n\u001b[1;32m----> 1\u001b[1;33m \u001b[0mparentobj\u001b[0m\u001b[1;33m.\u001b[0m\u001b[0mget_value\u001b[0m\u001b[1;33m(\u001b[0m\u001b[1;33m)\u001b[0m  \u001b[1;31m#to access the parenrt default method\u001b[0m\u001b[1;33m\u001b[0m\u001b[1;33m\u001b[0m\u001b[0m\n\u001b[0m",
      "\u001b[1;32m~\\AppData\\Local\\Temp\\ipykernel_2736\\4035938715.py\u001b[0m in \u001b[0;36mget_value\u001b[1;34m(self)\u001b[0m\n\u001b[0;32m     15\u001b[0m         \u001b[0mage\u001b[0m\u001b[1;33m=\u001b[0m \u001b[0mVehicle\u001b[0m\u001b[1;33m.\u001b[0m\u001b[0mcurrent_year\u001b[0m \u001b[1;33m-\u001b[0m \u001b[0mself\u001b[0m\u001b[1;33m.\u001b[0m\u001b[0m__model\u001b[0m  \u001b[1;31m#class attribute  name.attribute\u001b[0m\u001b[1;33m\u001b[0m\u001b[1;33m\u001b[0m\u001b[0m\n\u001b[0;32m     16\u001b[0m         \u001b[0mprint\u001b[0m\u001b[1;33m(\u001b[0m\u001b[1;34m\"parent method\"\u001b[0m\u001b[1;33m)\u001b[0m\u001b[1;33m\u001b[0m\u001b[1;33m\u001b[0m\u001b[0m\n\u001b[1;32m---> 17\u001b[1;33m         \u001b[1;32mreturn\u001b[0m \u001b[0mVehicle\u001b[0m\u001b[1;33m.\u001b[0m\u001b[0mbase_price\u001b[0m \u001b[1;33m*\u001b[0m\u001b[1;33m(\u001b[0m\u001b[1;36m1\u001b[0m\u001b[1;33m/\u001b[0m\u001b[0mage\u001b[0m\u001b[1;33m)\u001b[0m\u001b[1;33m\u001b[0m\u001b[1;33m\u001b[0m\u001b[0m\n\u001b[0m\u001b[0;32m     18\u001b[0m \u001b[1;33m\u001b[0m\u001b[0m\n",
      "\u001b[1;31mZeroDivisionError\u001b[0m: division by zero"
     ]
    }
   ],
   "source": [
    "parentobj.get_value()  #to access the parenrt default method"
   ]
  }
 ],
 "metadata": {
  "kernelspec": {
   "display_name": "Python 3 (ipykernel)",
   "language": "python",
   "name": "python3"
  },
  "language_info": {
   "codemirror_mode": {
    "name": "ipython",
    "version": 3
   },
   "file_extension": ".py",
   "mimetype": "text/x-python",
   "name": "python",
   "nbconvert_exporter": "python",
   "pygments_lexer": "ipython3",
   "version": "3.9.13"
  }
 },
 "nbformat": 4,
 "nbformat_minor": 5
}
