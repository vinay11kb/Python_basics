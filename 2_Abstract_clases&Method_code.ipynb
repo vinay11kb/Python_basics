{
 "cells": [
  {
   "cell_type": "code",
   "execution_count": 2,
   "id": "455af653",
   "metadata": {},
   "outputs": [],
   "source": [
    "from abc import ABC,abstractmethod\n",
    "#ABC is abstract class"
   ]
  },
  {
   "cell_type": "code",
   "execution_count": 14,
   "id": "4221466c",
   "metadata": {},
   "outputs": [],
   "source": [
    "class Vehicle(ABC):  #ABC for abstractclass\n",
    "    \n",
    "    @abstractmethod  #abstract method\n",
    "    def get_value(self):  #its just interface\n",
    "        pass\n",
    "    \n",
    "    \n",
    "class Car(Vehicle,ABC):  #multilevel inhertance\n",
    "    def __init__(self,make,model,fare):\n",
    "        self.make=make\n",
    "        self.model=model\n",
    "        self.fare=fare\n",
    "    \n",
    "    \n",
    "    #define abstract method otherwise it throws error\n",
    "    def get_value(self):\n",
    "        return 1000*self.fare\n",
    "    "
   ]
  },
  {
   "cell_type": "code",
   "execution_count": 9,
   "id": "3a4fa18d",
   "metadata": {},
   "outputs": [],
   "source": [
    "obj=Car(\"tesla\",2022,500) #throws error"
   ]
  },
  {
   "cell_type": "code",
   "execution_count": 12,
   "id": "a2abf128",
   "metadata": {},
   "outputs": [
    {
     "data": {
      "text/plain": [
       "500000"
      ]
     },
     "execution_count": 12,
     "metadata": {},
     "output_type": "execute_result"
    }
   ],
   "source": [
    "obj.get_value()"
   ]
  },
  {
   "cell_type": "code",
   "execution_count": 13,
   "id": "ae7121b0",
   "metadata": {},
   "outputs": [
    {
     "ename": "TypeError",
     "evalue": "Can't instantiate abstract class Vehicle with abstract method get_value",
     "output_type": "error",
     "traceback": [
      "\u001b[1;31m---------------------------------------------------------------------------\u001b[0m",
      "\u001b[1;31mTypeError\u001b[0m                                 Traceback (most recent call last)",
      "\u001b[1;32m~\\AppData\\Local\\Temp\\ipykernel_11756\\146543628.py\u001b[0m in \u001b[0;36m<module>\u001b[1;34m\u001b[0m\n\u001b[1;32m----> 1\u001b[1;33m \u001b[0mjj\u001b[0m\u001b[1;33m=\u001b[0m\u001b[0mVehicle\u001b[0m\u001b[1;33m(\u001b[0m\u001b[1;33m)\u001b[0m\u001b[1;33m\u001b[0m\u001b[1;33m\u001b[0m\u001b[0m\n\u001b[0m",
      "\u001b[1;31mTypeError\u001b[0m: Can't instantiate abstract class Vehicle with abstract method get_value"
     ]
    }
   ],
   "source": [
    "jj=Vehicle()  #throws error "
   ]
  }
 ],
 "metadata": {
  "kernelspec": {
   "display_name": "Python 3 (ipykernel)",
   "language": "python",
   "name": "python3"
  },
  "language_info": {
   "codemirror_mode": {
    "name": "ipython",
    "version": 3
   },
   "file_extension": ".py",
   "mimetype": "text/x-python",
   "name": "python",
   "nbconvert_exporter": "python",
   "pygments_lexer": "ipython3",
   "version": "3.9.13"
  }
 },
 "nbformat": 4,
 "nbformat_minor": 5
}
