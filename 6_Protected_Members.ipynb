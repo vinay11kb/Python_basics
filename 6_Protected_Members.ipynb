{
 "cells": [
  {
   "cell_type": "code",
   "execution_count": 23,
   "id": "040aba8d",
   "metadata": {},
   "outputs": [],
   "source": [
    "#parent \n",
    "class Vehicle:\n",
    "    current_year=2020\n",
    "    base_price=1000\n",
    "    def __init__(self,make,model,fuel):\n",
    "        self.make=make\n",
    "        \n",
    "        #add _ make them protected attribute\n",
    "        self._model=model\n",
    "        self._fuel=fuel\n",
    "    \n",
    "#     def __pvt_meth(self):\n",
    "#         print(\"this is private\")\n",
    "    \n",
    "    #default function to gte value\n",
    "    def _get_value(self):\n",
    "        age= Vehicle.current_year - self._model  #class attribute  name.attribute\n",
    "        print(\"parent method\")\n",
    "        return Vehicle.base_price *(1/age)"
   ]
  },
  {
   "cell_type": "code",
   "execution_count": 24,
   "id": "f11d9e8d",
   "metadata": {},
   "outputs": [],
   "source": [
    "#child class\n",
    "class car(Vehicle):\n",
    "    def __init__(self,make,model,fuel,AC,sunroof):\n",
    "        #use super\n",
    "        super(car,self).__init__(make,model,fuel)\n",
    "        \n",
    "        #make them protected by using _\n",
    "        self._AC=AC\n",
    "        self._sunroof=sunroof\n",
    "        \n",
    "#         def show_private(self):\n",
    "#             self._Vehicle__pvt_meth()\n",
    "        \n",
    "        #overriding method- replaces parent default method\n",
    "        #define same function\n",
    "        #protected method\n",
    "        def _get_value(self):\n",
    "            Vehicle.base_price=5000\n",
    "            age= Vehicle.current_year - self._model  #class attribute  name.attribute\n",
    "            print(\"override method\")\n",
    "            return Vehicle.base_price *(1/age)"
   ]
  },
  {
   "cell_type": "code",
   "execution_count": 21,
   "id": "4e497eb1",
   "metadata": {},
   "outputs": [],
   "source": [
    "obj=car(\"testla\",2022,\"electric\",True,True)"
   ]
  },
  {
   "cell_type": "code",
   "execution_count": 10,
   "id": "5ddf3b38",
   "metadata": {},
   "outputs": [
    {
     "data": {
      "text/plain": [
       "True"
      ]
     },
     "execution_count": 10,
     "metadata": {},
     "output_type": "execute_result"
    }
   ],
   "source": [
    "obj._AC #use _ to access protected"
   ]
  },
  {
   "cell_type": "code",
   "execution_count": 25,
   "id": "eebaf81f",
   "metadata": {},
   "outputs": [
    {
     "name": "stdout",
     "output_type": "stream",
     "text": [
      "parent method\n"
     ]
    },
    {
     "data": {
      "text/plain": [
       "-500.0"
      ]
     },
     "execution_count": 25,
     "metadata": {},
     "output_type": "execute_result"
    }
   ],
   "source": [
    "obj._get_value()"
   ]
  }
 ],
 "metadata": {
  "kernelspec": {
   "display_name": "Python 3 (ipykernel)",
   "language": "python",
   "name": "python3"
  },
  "language_info": {
   "codemirror_mode": {
    "name": "ipython",
    "version": 3
   },
   "file_extension": ".py",
   "mimetype": "text/x-python",
   "name": "python",
   "nbconvert_exporter": "python",
   "pygments_lexer": "ipython3",
   "version": "3.9.13"
  }
 },
 "nbformat": 4,
 "nbformat_minor": 5
}
