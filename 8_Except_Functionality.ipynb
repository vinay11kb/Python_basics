{
 "cells": [
  {
   "cell_type": "code",
   "execution_count": 1,
   "id": "318c5702",
   "metadata": {},
   "outputs": [],
   "source": [
    "#customer exception for negative value\n",
    "\n",
    "class NegativeCar(Exception): #inherit all the methods from the exceptions\n",
    "    \n",
    "    def __init__(self,value,message=\"Car value cannot be negative\"):\n",
    "        self.value=value\n",
    "        self.message=message\n",
    "        \n",
    "        #acces the function of exception class via super\n",
    "        super().__init__(self.message)\n",
    "        \n",
    "    def __str__(self):\n",
    "        return f'{self.message} --> {self.value}'  #string"
   ]
  },
  {
   "cell_type": "code",
   "execution_count": 10,
   "id": "df67ec9f",
   "metadata": {},
   "outputs": [],
   "source": [
    "class Vehicle():\n",
    "    \n",
    "    def __init__(self,make,model,fuel):\n",
    "        self.make=make\n",
    "        self.model=model\n",
    "        self.fuel=fuel\n",
    "        self.current_year=2023\n",
    "        \n",
    "    def get_value(self):\n",
    "        age=self.current_year -self.model\n",
    "        \n",
    "        #add try and except\n",
    "        \n",
    "        try:\n",
    "            if age<0:\n",
    "                raise NegativeCar(age)  #use custom exception trigger by raise\n",
    "            \n",
    "            else:\n",
    "                return 1000*(1/age)\n",
    "        #except only trigger when try raise exception\n",
    "        except NegativeCar as e:  #take custom exception as e\n",
    "            print(\"Error ***\",e)"
   ]
  },
  {
   "cell_type": "code",
   "execution_count": 8,
   "id": "427a4392",
   "metadata": {},
   "outputs": [],
   "source": [
    "obj=Vehicle(\"tesla\",2025,\"electric\")"
   ]
  },
  {
   "cell_type": "code",
   "execution_count": 9,
   "id": "17351fc6",
   "metadata": {},
   "outputs": [
    {
     "name": "stdout",
     "output_type": "stream",
     "text": [
      "Error *** Car value cannot be negative --> -2\n"
     ]
    }
   ],
   "source": [
    "obj.get_value()"
   ]
  }
 ],
 "metadata": {
  "kernelspec": {
   "display_name": "Python 3 (ipykernel)",
   "language": "python",
   "name": "python3"
  },
  "language_info": {
   "codemirror_mode": {
    "name": "ipython",
    "version": 3
   },
   "file_extension": ".py",
   "mimetype": "text/x-python",
   "name": "python",
   "nbconvert_exporter": "python",
   "pygments_lexer": "ipython3",
   "version": "3.9.13"
  }
 },
 "nbformat": 4,
 "nbformat_minor": 5
}
