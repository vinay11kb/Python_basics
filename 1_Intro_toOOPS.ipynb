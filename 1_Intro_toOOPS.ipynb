{
 "cells": [
  {
   "cell_type": "markdown",
   "id": "a0c77ace",
   "metadata": {},
   "source": [
    "Class-it is like blueprint of an objective\n",
    "\n",
    "Attributes\n",
    "Methods\n",
    "Objects\n"
   ]
  }
 ],
 "metadata": {
  "kernelspec": {
   "display_name": "Python 3 (ipykernel)",
   "language": "python",
   "name": "python3"
  },
  "language_info": {
   "codemirror_mode": {
    "name": "ipython",
    "version": 3
   },
   "file_extension": ".py",
   "mimetype": "text/x-python",
   "name": "python",
   "nbconvert_exporter": "python",
   "pygments_lexer": "ipython3",
   "version": "3.9.13"
  }
 },
 "nbformat": 4,
 "nbformat_minor": 5
}
