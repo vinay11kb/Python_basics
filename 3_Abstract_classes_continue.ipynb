{
 "cells": [
  {
   "cell_type": "code",
   "execution_count": 1,
   "id": "dc57806d",
   "metadata": {},
   "outputs": [],
   "source": [
    "from abc import ABC,abstractmethod"
   ]
  },
  {
   "cell_type": "code",
   "execution_count": 2,
   "id": "9fafd6c8",
   "metadata": {},
   "outputs": [],
   "source": [
    "class TextReader(ABC):\n",
    "    def __init__(self,path,file):\n",
    "        self.path=path\n",
    "        self.file=file\n",
    "        \n",
    "    @abstractmethod  #this is just interface so we will pass it\n",
    "    def get_path(self):  #its rule we have to implement it while inherit \n",
    "        pass\n",
    "    \n",
    "    @abstractmethod\n",
    "    def get_file(self):\n",
    "        pass\n",
    "        "
   ]
  },
  {
   "cell_type": "code",
   "execution_count": 5,
   "id": "45eb9fee",
   "metadata": {},
   "outputs": [],
   "source": [
    "class reader(TextReader):\n",
    "    #we do not need super function in abstract class \n",
    "    #we can access value directly here\n",
    "    def get_path(self):\n",
    "        return self.path\n",
    "    \n",
    "    def get_file(self):\n",
    "        return self.file\n",
    "    "
   ]
  },
  {
   "cell_type": "code",
   "execution_count": 7,
   "id": "57416419",
   "metadata": {},
   "outputs": [],
   "source": [
    "obj=reader(\"user/download\",\"rck.txt\")"
   ]
  },
  {
   "cell_type": "code",
   "execution_count": 9,
   "id": "6902a6fb",
   "metadata": {},
   "outputs": [
    {
     "data": {
      "text/plain": [
       "'user/download'"
      ]
     },
     "execution_count": 9,
     "metadata": {},
     "output_type": "execute_result"
    }
   ],
   "source": [
    "obj.path  #still able to execute abstract class attrivute from child class"
   ]
  },
  {
   "cell_type": "code",
   "execution_count": 10,
   "id": "e769feb8",
   "metadata": {},
   "outputs": [
    {
     "data": {
      "text/plain": [
       "'rck.txt'"
      ]
     },
     "execution_count": 10,
     "metadata": {},
     "output_type": "execute_result"
    }
   ],
   "source": [
    "obj.file"
   ]
  },
  {
   "cell_type": "code",
   "execution_count": 11,
   "id": "61f47d72",
   "metadata": {},
   "outputs": [],
   "source": [
    "class bank(ABC):\n",
    "    \n",
    "    @abstractmethod\n",
    "    def get_interest(self):\n",
    "        pass\n",
    "\n",
    "\n",
    "class hdfc(bank):\n",
    "    \n",
    "    def get_interest(self):\n",
    "        return 8.9\n",
    "    "
   ]
  },
  {
   "cell_type": "code",
   "execution_count": 12,
   "id": "b6272978",
   "metadata": {},
   "outputs": [],
   "source": [
    "obj2=hdfc()"
   ]
  },
  {
   "cell_type": "code",
   "execution_count": 13,
   "id": "8314099d",
   "metadata": {},
   "outputs": [
    {
     "data": {
      "text/plain": [
       "8.9"
      ]
     },
     "execution_count": 13,
     "metadata": {},
     "output_type": "execute_result"
    }
   ],
   "source": [
    "obj2.get_interest()"
   ]
  }
 ],
 "metadata": {
  "kernelspec": {
   "display_name": "Python 3 (ipykernel)",
   "language": "python",
   "name": "python3"
  },
  "language_info": {
   "codemirror_mode": {
    "name": "ipython",
    "version": 3
   },
   "file_extension": ".py",
   "mimetype": "text/x-python",
   "name": "python",
   "nbconvert_exporter": "python",
   "pygments_lexer": "ipython3",
   "version": "3.9.13"
  }
 },
 "nbformat": 4,
 "nbformat_minor": 5
}
