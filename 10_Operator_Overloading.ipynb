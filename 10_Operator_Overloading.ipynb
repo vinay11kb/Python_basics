{
 "cells": [
  {
   "cell_type": "code",
   "execution_count": 14,
   "id": "67c63348",
   "metadata": {},
   "outputs": [],
   "source": [
    "class vehicle:\n",
    "    def __init__(self,make,model,fare):\n",
    "        self.make=make\n",
    "        self.model=model\n",
    "        self.fare=fare\n",
    "    \n",
    "    #here use .formAT TO FILL THE {} with values\n",
    "    def __str__(self):\n",
    "        return \"The make of the car is  {} and model is {} with fare of {}\".format(self.make,\n",
    "                                                                    self.model,\n",
    "                                                                    self.fare)\n",
    "    #it accepts two objects\n",
    "    def __add__(self,other): #self object and other object to add\n",
    "        return self.fare + other.fare\n",
    "        \n",
    "        \n",
    "    "
   ]
  },
  {
   "cell_type": "code",
   "execution_count": 16,
   "id": "c3c312fb",
   "metadata": {},
   "outputs": [],
   "source": [
    "myobj1=vehicle(\"tesla\",2019,40)\n",
    "myobj2=vehicle(\"ford\",2020,60)"
   ]
  },
  {
   "cell_type": "code",
   "execution_count": 12,
   "id": "04d54441",
   "metadata": {},
   "outputs": [
    {
     "name": "stdout",
     "output_type": "stream",
     "text": [
      "The make of the car is  tesla and model is 2019 with fare of 40\n"
     ]
    }
   ],
   "source": [
    "print(myobj1)"
   ]
  },
  {
   "cell_type": "code",
   "execution_count": 18,
   "id": "a03155f1",
   "metadata": {},
   "outputs": [
    {
     "data": {
      "text/plain": [
       "100"
      ]
     },
     "execution_count": 18,
     "metadata": {},
     "output_type": "execute_result"
    }
   ],
   "source": [
    "#when we add the objects their fare should be added\n",
    "\n",
    "myobj1+myobj2  #their fare should be added as given in __add__ function"
   ]
  },
  {
   "cell_type": "code",
   "execution_count": null,
   "id": "2c31422b",
   "metadata": {},
   "outputs": [],
   "source": []
  }
 ],
 "metadata": {
  "kernelspec": {
   "display_name": "Python 3 (ipykernel)",
   "language": "python",
   "name": "python3"
  },
  "language_info": {
   "codemirror_mode": {
    "name": "ipython",
    "version": 3
   },
   "file_extension": ".py",
   "mimetype": "text/x-python",
   "name": "python",
   "nbconvert_exporter": "python",
   "pygments_lexer": "ipython3",
   "version": "3.9.13"
  }
 },
 "nbformat": 4,
 "nbformat_minor": 5
}
