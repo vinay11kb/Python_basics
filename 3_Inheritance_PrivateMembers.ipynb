{
 "cells": [
  {
   "cell_type": "code",
   "execution_count": 5,
   "id": "50d93365",
   "metadata": {},
   "outputs": [],
   "source": [
    "#parent class\n",
    "class Vehicle:\n",
    "    def __init__(self,make,model,fuel):\n",
    "        self.make=make\n",
    "        self.__model=model  #private\n",
    "        self.__fuel=fuel  #private\n",
    "        \n",
    "    def __private_meth_parent(self): \n",
    "        print(\"This is private\")\n",
    "    "
   ]
  },
  {
   "cell_type": "code",
   "execution_count": 20,
   "id": "55e6eeae",
   "metadata": {},
   "outputs": [],
   "source": [
    "#child class\n",
    "class car(Vehicle):\n",
    "    def __init__(self,make,model,fuel,AC,sunroof):\n",
    "        Vehicle.make=make\n",
    "        Vehicle.__model=model\n",
    "        Vehicle.__fuel=fuel\n",
    "        \n",
    "        self.AC=AC\n",
    "        self.sunroof=sunroof\n",
    "    \n",
    "    def parent_att(self):\n",
    "        print(Vehicle.make,\" \",Vehicle.__model,\" \",Vehicle.__fuel)\n",
    "        \n",
    "    def show_pvt_parent(self): #access the private method in child class public method\n",
    "        self._Vehicle__private_meth_parent()\n",
    "        \n",
    "    "
   ]
  },
  {
   "cell_type": "code",
   "execution_count": 18,
   "id": "160d3b03",
   "metadata": {},
   "outputs": [],
   "source": [
    "obj=car(\"tesla\",2019,\"Electric\",True,True)"
   ]
  },
  {
   "cell_type": "code",
   "execution_count": 19,
   "id": "311e2ab0",
   "metadata": {},
   "outputs": [
    {
     "name": "stdout",
     "output_type": "stream",
     "text": [
      "This is private\n"
     ]
    }
   ],
   "source": [
    "obj.show_pvt_parent() #aces the private method"
   ]
  }
 ],
 "metadata": {
  "kernelspec": {
   "display_name": "Python 3 (ipykernel)",
   "language": "python",
   "name": "python3"
  },
  "language_info": {
   "codemirror_mode": {
    "name": "ipython",
    "version": 3
   },
   "file_extension": ".py",
   "mimetype": "text/x-python",
   "name": "python",
   "nbconvert_exporter": "python",
   "pygments_lexer": "ipython3",
   "version": "3.9.13"
  }
 },
 "nbformat": 4,
 "nbformat_minor": 5
}
