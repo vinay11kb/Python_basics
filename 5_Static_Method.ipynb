{
 "cells": [
  {
   "cell_type": "code",
   "execution_count": 21,
   "id": "25be958c",
   "metadata": {},
   "outputs": [],
   "source": [
    "class Expense:\n",
    "    version=0.1\n",
    "    \n",
    "    def __init__(self,category,balance,budget):\n",
    "        self.category=category\n",
    "        self.balance=balance\n",
    "        self.budget=budget\n",
    "        \n",
    "        #instance method\n",
    "    def get_balance(self):\n",
    "        return self.balance #self se attribute ko access kr lenge\n",
    "    \n",
    "    #instance method\n",
    "    def check_bal(self,limit=1000):\n",
    "        if self.budget>=limit:\n",
    "            return True\n",
    "        else:\n",
    "            return \"Opening balance is less than limit\"\n",
    "    \n",
    "    \n",
    "    #static method\n",
    "    @staticmethod   #we need that vdecorator\n",
    "    def convert_amount(amount):\n",
    "        return float(amount)\n",
    "        \n",
    "        "
   ]
  },
  {
   "cell_type": "code",
   "execution_count": 17,
   "id": "aa5f46ed",
   "metadata": {},
   "outputs": [
    {
     "data": {
      "text/plain": [
       "0"
      ]
     },
     "execution_count": 17,
     "metadata": {},
     "output_type": "execute_result"
    }
   ],
   "source": [
    "obj=Expense(\"Home\",0,10000)\n",
    "obj2=Expense(\"Business\",3000,9000)\n",
    "\n",
    "obj.get_balance() #method ko access kr lenge obj se"
   ]
  },
  {
   "cell_type": "code",
   "execution_count": 18,
   "id": "f6f99133",
   "metadata": {},
   "outputs": [
    {
     "data": {
      "text/plain": [
       "3000"
      ]
     },
     "execution_count": 18,
     "metadata": {},
     "output_type": "execute_result"
    }
   ],
   "source": [
    "obj2.get_balance() #it gives diff value as per the object"
   ]
  },
  {
   "cell_type": "code",
   "execution_count": 19,
   "id": "9d450716",
   "metadata": {},
   "outputs": [
    {
     "data": {
      "text/plain": [
       "'Opening balance is less than limit'"
      ]
     },
     "execution_count": 19,
     "metadata": {},
     "output_type": "execute_result"
    }
   ],
   "source": [
    "obj.check_bal(limit=1000000)"
   ]
  },
  {
   "cell_type": "code",
   "execution_count": 20,
   "id": "22c8dd5d",
   "metadata": {},
   "outputs": [
    {
     "data": {
      "text/plain": [
       "1000.0"
      ]
     },
     "execution_count": 20,
     "metadata": {},
     "output_type": "execute_result"
    }
   ],
   "source": [
    "#access static method\n",
    "obj.convert_amount(1000)  #we cannot pass instance attributes"
   ]
  }
 ],
 "metadata": {
  "kernelspec": {
   "display_name": "Python 3 (ipykernel)",
   "language": "python",
   "name": "python3"
  },
  "language_info": {
   "codemirror_mode": {
    "name": "ipython",
    "version": 3
   },
   "file_extension": ".py",
   "mimetype": "text/x-python",
   "name": "python",
   "nbconvert_exporter": "python",
   "pygments_lexer": "ipython3",
   "version": "3.9.13"
  }
 },
 "nbformat": 4,
 "nbformat_minor": 5
}
