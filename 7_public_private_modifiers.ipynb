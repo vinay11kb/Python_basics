{
 "cells": [
  {
   "cell_type": "code",
   "execution_count": 15,
   "id": "e02f073c",
   "metadata": {},
   "outputs": [],
   "source": [
    "class Expense:\n",
    "    \n",
    "    #class attri \n",
    "    version=0.1\n",
    "    \n",
    "    def __init__(self,category,balance,budget):\n",
    "        \n",
    "        \n",
    "        #public attribute\n",
    "        self.category=category\n",
    "        \n",
    "        #private attribute using __\n",
    "        self.__balance=balance\n",
    "        self.__budget=budget\n",
    "    \n",
    "    #instance method\n",
    "    #private method using __ cannot be access outside of class\n",
    "    def __get_bal(self):\n",
    "        return self.__balance\n",
    "    \n",
    "    def check_bal(self,limit=1000):\n",
    "        if self.__balance>=limit:  #make balance private hre coz its private\n",
    "            return True\n",
    "        else:\n",
    "            return \"balance is less than limit\"\n",
    "        \n",
    "    \n",
    "    @staticmethod\n",
    "    def convert(amount):\n",
    "        return float(amount)\n",
    "    \n",
    "    @classmethod\n",
    "    def get_attri(cls,diary:str):\n",
    "        category,balance,budget=diary.split(\" \")\n",
    "        \n",
    "        return Expense(category.capitalize(),\n",
    "                      cls.convert(balance),\n",
    "                      cls.convert(budget))"
   ]
  },
  {
   "cell_type": "code",
   "execution_count": 17,
   "id": "052e8277",
   "metadata": {},
   "outputs": [
    {
     "data": {
      "text/plain": [
       "{'category': 'Shopping',\n",
       " '_Expense__balance': 500.0,\n",
       " '_Expense__budget': 6000.0}"
      ]
     },
     "execution_count": 17,
     "metadata": {},
     "output_type": "execute_result"
    }
   ],
   "source": [
    "clsobj=Expense.get_attri(\"shopping 500 6000\")\n",
    "\n",
    "clsobj.__dict__"
   ]
  },
  {
   "cell_type": "code",
   "execution_count": 18,
   "id": "c3c4c58e",
   "metadata": {},
   "outputs": [],
   "source": [
    "home=Expense(\"Home\",0,1000)"
   ]
  },
  {
   "cell_type": "code",
   "execution_count": 19,
   "id": "2572cfe0",
   "metadata": {},
   "outputs": [
    {
     "data": {
      "text/plain": [
       "'Home'"
      ]
     },
     "execution_count": 19,
     "metadata": {},
     "output_type": "execute_result"
    }
   ],
   "source": [
    "#access public attribute\n",
    "home.category"
   ]
  },
  {
   "cell_type": "code",
   "execution_count": 20,
   "id": "8e8c0b33",
   "metadata": {},
   "outputs": [
    {
     "ename": "AttributeError",
     "evalue": "'Expense' object has no attribute 'budget'",
     "output_type": "error",
     "traceback": [
      "\u001b[1;31m---------------------------------------------------------------------------\u001b[0m",
      "\u001b[1;31mAttributeError\u001b[0m                            Traceback (most recent call last)",
      "\u001b[1;32m~\\AppData\\Local\\Temp\\ipykernel_15720\\4152481288.py\u001b[0m in \u001b[0;36m<module>\u001b[1;34m\u001b[0m\n\u001b[0;32m      1\u001b[0m \u001b[1;31m#acces private attribute gives error\u001b[0m\u001b[1;33m\u001b[0m\u001b[1;33m\u001b[0m\u001b[0m\n\u001b[1;32m----> 2\u001b[1;33m \u001b[0mhome\u001b[0m\u001b[1;33m.\u001b[0m\u001b[0mbudget\u001b[0m\u001b[1;33m\u001b[0m\u001b[1;33m\u001b[0m\u001b[0m\n\u001b[0m",
      "\u001b[1;31mAttributeError\u001b[0m: 'Expense' object has no attribute 'budget'"
     ]
    }
   ],
   "source": [
    "#acces private attribute gives error\n",
    "home.budget"
   ]
  },
  {
   "cell_type": "code",
   "execution_count": 21,
   "id": "8a7bcf4f",
   "metadata": {},
   "outputs": [
    {
     "ename": "AttributeError",
     "evalue": "'Expense' object has no attribute 'get_bal'",
     "output_type": "error",
     "traceback": [
      "\u001b[1;31m---------------------------------------------------------------------------\u001b[0m",
      "\u001b[1;31mAttributeError\u001b[0m                            Traceback (most recent call last)",
      "\u001b[1;32m~\\AppData\\Local\\Temp\\ipykernel_15720\\3353215338.py\u001b[0m in \u001b[0;36m<module>\u001b[1;34m\u001b[0m\n\u001b[0;32m      1\u001b[0m \u001b[1;31m#access private function\u001b[0m\u001b[1;33m\u001b[0m\u001b[1;33m\u001b[0m\u001b[0m\n\u001b[1;32m----> 2\u001b[1;33m \u001b[0mhome\u001b[0m\u001b[1;33m.\u001b[0m\u001b[0mget_bal\u001b[0m\u001b[1;33m(\u001b[0m\u001b[1;33m)\u001b[0m\u001b[1;33m\u001b[0m\u001b[1;33m\u001b[0m\u001b[0m\n\u001b[0m",
      "\u001b[1;31mAttributeError\u001b[0m: 'Expense' object has no attribute 'get_bal'"
     ]
    }
   ],
   "source": [
    "#access private function\n",
    "home.get_bal()"
   ]
  },
  {
   "cell_type": "code",
   "execution_count": 22,
   "id": "6393d4ee",
   "metadata": {},
   "outputs": [
    {
     "data": {
      "text/plain": [
       "{'category': 'Home', '_Expense__balance': 0, '_Expense__budget': 1000}"
      ]
     },
     "execution_count": 22,
     "metadata": {},
     "output_type": "execute_result"
    }
   ],
   "source": [
    "home.__dict__ #we can checkj the privte here with _"
   ]
  },
  {
   "cell_type": "code",
   "execution_count": 23,
   "id": "fd7a0066",
   "metadata": {},
   "outputs": [
    {
     "data": {
      "text/plain": [
       "1000"
      ]
     },
     "execution_count": 23,
     "metadata": {},
     "output_type": "execute_result"
    }
   ],
   "source": [
    "#way to access private via _class__attribute\n",
    "home._Expense__budget"
   ]
  },
  {
   "cell_type": "code",
   "execution_count": 24,
   "id": "0d8ffd59",
   "metadata": {},
   "outputs": [
    {
     "data": {
      "text/plain": [
       "0"
      ]
     },
     "execution_count": 24,
     "metadata": {},
     "output_type": "execute_result"
    }
   ],
   "source": [
    "home._Expense__get_bal() #access private method"
   ]
  }
 ],
 "metadata": {
  "kernelspec": {
   "display_name": "Python 3 (ipykernel)",
   "language": "python",
   "name": "python3"
  },
  "language_info": {
   "codemirror_mode": {
    "name": "ipython",
    "version": 3
   },
   "file_extension": ".py",
   "mimetype": "text/x-python",
   "name": "python",
   "nbconvert_exporter": "python",
   "pygments_lexer": "ipython3",
   "version": "3.9.13"
  }
 },
 "nbformat": 4,
 "nbformat_minor": 5
}
