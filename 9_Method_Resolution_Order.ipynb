{
 "cells": [
  {
   "cell_type": "markdown",
   "id": "094ec4b9",
   "metadata": {},
   "source": [
    "Mro is order to execute the methods"
   ]
  },
  {
   "cell_type": "code",
   "execution_count": 6,
   "id": "d03de504",
   "metadata": {},
   "outputs": [],
   "source": [
    "class car():\n",
    "    def __init__(self,make,model,fuel):\n",
    "        self.make=make\n",
    "        self.model=model\n",
    "        self.fuel=fuel\n",
    "    \n",
    "    def get_car_detail(self):\n",
    "        return \"model of caer is\",self.model,\"from car class\"\n",
    "    \n",
    "\n",
    "class Electric():\n",
    "    def __init(self,make,model,fuel):\n",
    "        self.make=make\n",
    "        self.model=model\n",
    "        self.fuel=fuel\n",
    "    \n",
    "    def get_car_detail(self):\n",
    "        return \"model of caer is\",self.model,\"from electric car class\"\n",
    "    \n",
    "    \n",
    "        \n",
    "        "
   ]
  },
  {
   "cell_type": "code",
   "execution_count": 7,
   "id": "20d2162c",
   "metadata": {},
   "outputs": [],
   "source": [
    "#child class\n",
    "class taxi(car,Electric):   #multiple inheritance\n",
    "    def __init__(self,make,model,fuel):\n",
    "        super().__init__(make,model,fuel)  #keep super emty in multiple inheritance\n",
    "        \n",
    "        \n",
    "    "
   ]
  },
  {
   "cell_type": "code",
   "execution_count": 8,
   "id": "3fa48162",
   "metadata": {},
   "outputs": [],
   "source": [
    "obj=taxi(\"tesla\",2022,\"electric\")"
   ]
  },
  {
   "cell_type": "code",
   "execution_count": 9,
   "id": "9b612249",
   "metadata": {},
   "outputs": [
    {
     "data": {
      "text/plain": [
       "('model of caer is', 2022, 'from car class')"
      ]
     },
     "execution_count": 9,
     "metadata": {},
     "output_type": "execute_result"
    }
   ],
   "source": [
    "obj.get_car_detail()"
   ]
  },
  {
   "cell_type": "code",
   "execution_count": 11,
   "id": "05f7e9ed",
   "metadata": {},
   "outputs": [
    {
     "data": {
      "text/plain": [
       "(__main__.taxi, __main__.car, __main__.Electric, object)"
      ]
     },
     "execution_count": 11,
     "metadata": {},
     "output_type": "execute_result"
    }
   ],
   "source": [
    "#check the mro\n",
    "#gives execution order\n",
    "taxi.__mro__"
   ]
  }
 ],
 "metadata": {
  "kernelspec": {
   "display_name": "Python 3 (ipykernel)",
   "language": "python",
   "name": "python3"
  },
  "language_info": {
   "codemirror_mode": {
    "name": "ipython",
    "version": 3
   },
   "file_extension": ".py",
   "mimetype": "text/x-python",
   "name": "python",
   "nbconvert_exporter": "python",
   "pygments_lexer": "ipython3",
   "version": "3.9.13"
  }
 },
 "nbformat": 4,
 "nbformat_minor": 5
}
