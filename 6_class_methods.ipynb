{
 "cells": [
  {
   "cell_type": "code",
   "execution_count": 3,
   "id": "b7847437",
   "metadata": {},
   "outputs": [],
   "source": [
    "class Expense:\n",
    "    version=0.1\n",
    "    \n",
    "    def __init__(self,category,balance,budget):\n",
    "        self.category=category\n",
    "        self.balance=balance\n",
    "        self.budget=budget\n",
    "    \n",
    "    #instance method\n",
    "    def get_balance(self):\n",
    "        return self.balance\n",
    "    \n",
    "    def check_balance(self,limit=1000):\n",
    "        if self.balance>=limit:\n",
    "            return True\n",
    "        else:\n",
    "            return \"opening balance is less than limit\"\n",
    "    \n",
    "    #static method\n",
    "    @staticmethod\n",
    "    def convert_amount(amount):\n",
    "        return float(amount)\n",
    "    \n",
    "    #class method or factory method\n",
    "    @classmethod    #it takes cls as the first parameter\n",
    "    def get_attri(cls,diary_entry:str):   #define type of diary_entry is string\n",
    "        category,balance,budget=diary_entry.split(\" \")\n",
    "        \n",
    "        #return the object and access static method via cls parameter\n",
    "        return Expense(category.capitalize(),\n",
    "                      cls.convert_amount(balance),\n",
    "                      cls.convert_amount(budget))\n",
    "        \n",
    "    "
   ]
  },
  {
   "cell_type": "code",
   "execution_count": 4,
   "id": "5dcddbf5",
   "metadata": {},
   "outputs": [],
   "source": [
    "classObj=Expense.get_attri(\"shopping 4000 5000\")"
   ]
  },
  {
   "cell_type": "code",
   "execution_count": 6,
   "id": "e58f19cb",
   "metadata": {},
   "outputs": [
    {
     "data": {
      "text/plain": [
       "{'category': 'Shopping', 'balance': 4000.0, 'budget': 5000.0}"
      ]
     },
     "execution_count": 6,
     "metadata": {},
     "output_type": "execute_result"
    }
   ],
   "source": [
    "classObj.__dict__"
   ]
  }
 ],
 "metadata": {
  "kernelspec": {
   "display_name": "Python 3 (ipykernel)",
   "language": "python",
   "name": "python3"
  },
  "language_info": {
   "codemirror_mode": {
    "name": "ipython",
    "version": 3
   },
   "file_extension": ".py",
   "mimetype": "text/x-python",
   "name": "python",
   "nbconvert_exporter": "python",
   "pygments_lexer": "ipython3",
   "version": "3.9.13"
  }
 },
 "nbformat": 4,
 "nbformat_minor": 5
}
