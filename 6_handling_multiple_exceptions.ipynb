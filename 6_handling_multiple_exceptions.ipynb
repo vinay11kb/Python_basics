{
 "cells": [
  {
   "cell_type": "code",
   "execution_count": 14,
   "id": "27910bd4",
   "metadata": {},
   "outputs": [],
   "source": [
    "class Vehicle():\n",
    "    def __init__(self,make,model,fuel):\n",
    "        self.make=make\n",
    "        self.model=model\n",
    "        self.fuel=fuel\n",
    "    \n",
    "    def get_vale(self):\n",
    "        #use try and except to avoid type error and zero divion error\n",
    "        #use nested try if we get both error at one time\n",
    "        try:\n",
    "            age=2021 - self.model\n",
    "            return 1000*(1/age)\n",
    "        #type error\n",
    "        except TypeError:\n",
    "            try:\n",
    "                age=2021 -int(self.model)\n",
    "                return 1000*(1/age)\n",
    "        #zero division error\n",
    "            except ZeroDivisionError:\n",
    "                age=2021 -int(self.model)\n",
    "                return 1000*1\n",
    "            #value error like give string instead of model year\n",
    "            except:\n",
    "                return \"u have entered model incorrect format\"\n",
    "                \n",
    "        \n",
    "      #we can have multiple except condition for one except  "
   ]
  },
  {
   "cell_type": "code",
   "execution_count": 15,
   "id": "df54d6a4",
   "metadata": {},
   "outputs": [],
   "source": [
    "obj=Vehicle(\"tesla\",\"new\",\"Electric\")  #\"2021\" give tye and zerdvision error"
   ]
  },
  {
   "cell_type": "code",
   "execution_count": 16,
   "id": "d2a7f376",
   "metadata": {},
   "outputs": [
    {
     "data": {
      "text/plain": [
       "'u have entered model incorrect format'"
      ]
     },
     "execution_count": 16,
     "metadata": {},
     "output_type": "execute_result"
    }
   ],
   "source": [
    "obj.get_vale()  #multiple error we get type and zeroDivision both"
   ]
  }
 ],
 "metadata": {
  "kernelspec": {
   "display_name": "Python 3 (ipykernel)",
   "language": "python",
   "name": "python3"
  },
  "language_info": {
   "codemirror_mode": {
    "name": "ipython",
    "version": 3
   },
   "file_extension": ".py",
   "mimetype": "text/x-python",
   "name": "python",
   "nbconvert_exporter": "python",
   "pygments_lexer": "ipython3",
   "version": "3.9.13"
  }
 },
 "nbformat": 4,
 "nbformat_minor": 5
}
