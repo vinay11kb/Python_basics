{
 "cells": [
  {
   "cell_type": "markdown",
   "id": "6773bc39",
   "metadata": {},
   "source": [
    "class inhertits object class which 3 methods\n",
    " __init__\n",
    " __str__\n",
    " __new__"
   ]
  },
  {
   "cell_type": "code",
   "execution_count": 6,
   "id": "bc2e6999",
   "metadata": {},
   "outputs": [],
   "source": [
    "class circle(object):\n",
    "    def __init__(self,radius):\n",
    "        self.__radius=radius\n",
    "    \n",
    "    def __str__(self):\n",
    "        return \"this is the circle class takes radius as argument\""
   ]
  },
  {
   "cell_type": "code",
   "execution_count": 7,
   "id": "355f9540",
   "metadata": {},
   "outputs": [
    {
     "name": "stdout",
     "output_type": "stream",
     "text": [
      "this is the circle class takes radius as argument\n"
     ]
    }
   ],
   "source": [
    "c=circle(3)\n",
    "print(c)"
   ]
  }
 ],
 "metadata": {
  "kernelspec": {
   "display_name": "Python 3 (ipykernel)",
   "language": "python",
   "name": "python3"
  },
  "language_info": {
   "codemirror_mode": {
    "name": "ipython",
    "version": 3
   },
   "file_extension": ".py",
   "mimetype": "text/x-python",
   "name": "python",
   "nbconvert_exporter": "python",
   "pygments_lexer": "ipython3",
   "version": "3.9.13"
  }
 },
 "nbformat": 4,
 "nbformat_minor": 5
}
