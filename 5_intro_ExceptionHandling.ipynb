{
 "cells": [
  {
   "cell_type": "code",
   "execution_count": null,
   "id": "9b9775ed",
   "metadata": {},
   "outputs": [],
   "source": [
    "if:\n",
    "    <ourlogic>\n",
    "else:\n",
    "    <alternative logic>"
   ]
  },
  {
   "cell_type": "code",
   "execution_count": null,
   "id": "f3537238",
   "metadata": {},
   "outputs": [],
   "source": [
    "try:\n",
    "    a+b\n",
    "except:\n",
    "    int(a) +int(b)"
   ]
  },
  {
   "cell_type": "code",
   "execution_count": 11,
   "id": "c1bbbf20",
   "metadata": {},
   "outputs": [],
   "source": [
    "class Vehicle():\n",
    "    def __init__(self,make,model,fuel):\n",
    "        self.make=make\n",
    "        self.model=model\n",
    "        self.fuel=fuel\n",
    "    \n",
    "    def get_vale(self):\n",
    "        #use try and except to avoid type error and zero divion error\n",
    "        try:\n",
    "            age=2021 - self.model\n",
    "            return 1000*(1/age)\n",
    "        #type error\n",
    "        except TypeError:\n",
    "            age=2021 -int(self.model)\n",
    "            return 1000*(1/age)\n",
    "        \n",
    "        #zero division error\n",
    "        except ZeroDivisionError:\n",
    "            age=2021 -int(self.model)\n",
    "            return 1000*1\n",
    "        \n",
    "      #we can have multiple except condition for one except  "
   ]
  },
  {
   "cell_type": "code",
   "execution_count": 9,
   "id": "a7611bcc",
   "metadata": {},
   "outputs": [],
   "source": [
    "obj=Vehicle(\"tesla\",\"2019\",\"electric\")  #gives type error"
   ]
  },
  {
   "cell_type": "code",
   "execution_count": 10,
   "id": "0bceb744",
   "metadata": {},
   "outputs": [
    {
     "data": {
      "text/plain": [
       "500.0"
      ]
     },
     "execution_count": 10,
     "metadata": {},
     "output_type": "execute_result"
    }
   ],
   "source": [
    "obj.get_vale()"
   ]
  }
 ],
 "metadata": {
  "kernelspec": {
   "display_name": "Python 3 (ipykernel)",
   "language": "python",
   "name": "python3"
  },
  "language_info": {
   "codemirror_mode": {
    "name": "ipython",
    "version": 3
   },
   "file_extension": ".py",
   "mimetype": "text/x-python",
   "name": "python",
   "nbconvert_exporter": "python",
   "pygments_lexer": "ipython3",
   "version": "3.9.13"
  }
 },
 "nbformat": 4,
 "nbformat_minor": 5
}
