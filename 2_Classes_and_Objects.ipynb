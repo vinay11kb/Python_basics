{
 "cells": [
  {
   "cell_type": "code",
   "execution_count": null,
   "id": "74d2cbbe",
   "metadata": {},
   "outputs": [],
   "source": [
    "#Class IMpletation\n",
    "class Expense:\n",
    "    \"\"\"this is a class to do expense tracking\"\"\"\"\n",
    "    def __init__(self):\n",
    "        pass"
   ]
  },
  {
   "cell_type": "code",
   "execution_count": null,
   "id": "b569f0fb",
   "metadata": {},
   "outputs": [],
   "source": [
    "#define Object\n",
    "\n",
    "obj1=Expense()"
   ]
  },
  {
   "cell_type": "code",
   "execution_count": 2,
   "id": "b9515b62",
   "metadata": {},
   "outputs": [],
   "source": [
    "#Class IMpletation with data\n",
    "class Expense:\n",
    "   # \"\"\"this is a class to do expense tracking\"\"\"\"\n",
    "\n",
    "#here self is used to map the data to class attributes\n",
    "    def __init__(self,date,desc,transaction,amount):\n",
    "        self.date=date\n",
    "        self.desc=desc\n",
    "        self.transaction=transaction\n",
    "        self.amount=amount\n",
    "        pass"
   ]
  },
  {
   "cell_type": "code",
   "execution_count": 3,
   "id": "c7ddf4c6",
   "metadata": {},
   "outputs": [],
   "source": [
    "obj2=Expense(\"12Jan\",\"dinner\",\"debit\",500)#data pass krna hoga kuch ab\n"
   ]
  },
  {
   "cell_type": "code",
   "execution_count": 4,
   "id": "4861ffa4",
   "metadata": {},
   "outputs": [
    {
     "data": {
      "text/plain": [
       "'12Jan'"
      ]
     },
     "execution_count": 4,
     "metadata": {},
     "output_type": "execute_result"
    }
   ],
   "source": [
    "#access the attribute\n",
    "obj2.date"
   ]
  },
  {
   "cell_type": "code",
   "execution_count": 6,
   "id": "1de5ca49",
   "metadata": {},
   "outputs": [],
   "source": [
    "obj3=Expense(\"13Jul\",\"lunch\",\"debit\",60)"
   ]
  },
  {
   "cell_type": "code",
   "execution_count": 7,
   "id": "8c928da1",
   "metadata": {},
   "outputs": [
    {
     "data": {
      "text/plain": [
       "'debit'"
      ]
     },
     "execution_count": 7,
     "metadata": {},
     "output_type": "execute_result"
    }
   ],
   "source": [
    "obj3.transaction"
   ]
  }
 ],
 "metadata": {
  "kernelspec": {
   "display_name": "Python 3 (ipykernel)",
   "language": "python",
   "name": "python3"
  },
  "language_info": {
   "codemirror_mode": {
    "name": "ipython",
    "version": 3
   },
   "file_extension": ".py",
   "mimetype": "text/x-python",
   "name": "python",
   "nbconvert_exporter": "python",
   "pygments_lexer": "ipython3",
   "version": "3.9.13"
  }
 },
 "nbformat": 4,
 "nbformat_minor": 5
}
