{
 "cells": [
  {
   "cell_type": "code",
   "execution_count": null,
   "id": "4af7c20f",
   "metadata": {},
   "outputs": [],
   "source": [
    "Count even odd in list"
   ]
  },
  {
   "cell_type": "code",
   "execution_count": 2,
   "id": "5cb6c7af",
   "metadata": {},
   "outputs": [
    {
     "name": "stdout",
     "output_type": "stream",
     "text": [
      "4 4\n"
     ]
    }
   ],
   "source": [
    "li=[1,2,3,4,5,6,7,8]\n",
    "e=0\n",
    "o=0\n",
    "for i in li:\n",
    "    if i%2==0:\n",
    "        e=e+1\n",
    "    else:\n",
    "        o=o+1\n",
    "print(o,e)\n",
    "    "
   ]
  },
  {
   "cell_type": "code",
   "execution_count": 7,
   "id": "737cd4d2",
   "metadata": {},
   "outputs": [
    {
     "name": "stdout",
     "output_type": "stream",
     "text": [
      "[1, 2, 3, 6]\n"
     ]
    }
   ],
   "source": [
    "#print duplicates elements from list\n",
    "li=[1,2,3,4,3,5,6,2,1,6]\n",
    "rep=[]\n",
    "for i in range(len(li)):\n",
    "    k=i+1\n",
    "    for j in range(k,len(li)):\n",
    "        if li[i]==li[j] and li[i] not in rep:\n",
    "            rep.append(li[i])\n",
    "\n",
    "print(rep)\n",
    "\n"
   ]
  },
  {
   "cell_type": "code",
   "execution_count": 10,
   "id": "1e4c2e48",
   "metadata": {},
   "outputs": [
    {
     "name": "stdout",
     "output_type": "stream",
     "text": [
      "[4, 5, 6, 45]\n"
     ]
    }
   ],
   "source": [
    "#print unique\n",
    "li=[1,2,3,4,3,5,6,2,1,45]\n",
    "un=[]\n",
    "for i in li:\n",
    "    if li.count(i)==1:\n",
    "        un.append(i)\n",
    "print(un)\n",
    "            "
   ]
  },
  {
   "cell_type": "code",
   "execution_count": 12,
   "id": "27c42e1b",
   "metadata": {},
   "outputs": [
    {
     "name": "stdout",
     "output_type": "stream",
     "text": [
      "[4, 3]\n"
     ]
    }
   ],
   "source": [
    "#find elements with freq greater than k\n",
    "tl = [4, 6, 4, 3, 3, 4, 3, 4, 3, 8]\n",
    "en=[]\n",
    "for i in tl:\n",
    "    if tl.count(i)>3 and i not in en:\n",
    "        en.append(i)\n",
    "print(en)"
   ]
  },
  {
   "cell_type": "code",
   "execution_count": 14,
   "id": "5898fd37",
   "metadata": {},
   "outputs": [
    {
     "data": {
      "text/plain": [
       "[2, 3, 4, 5, 6]"
      ]
     },
     "execution_count": 14,
     "metadata": {},
     "output_type": "execute_result"
    }
   ],
   "source": [
    "#remove all the occurance of ele\n",
    "li=[1,2,3,4,1,5,6,1]\n",
    "\n",
    "for i in li:\n",
    "    if i==1:\n",
    "        li.remove(i)\n",
    "li"
   ]
  }
 ],
 "metadata": {
  "kernelspec": {
   "display_name": "Python 3 (ipykernel)",
   "language": "python",
   "name": "python3"
  },
  "language_info": {
   "codemirror_mode": {
    "name": "ipython",
    "version": 3
   },
   "file_extension": ".py",
   "mimetype": "text/x-python",
   "name": "python",
   "nbconvert_exporter": "python",
   "pygments_lexer": "ipython3",
   "version": "3.9.13"
  }
 },
 "nbformat": 4,
 "nbformat_minor": 5
}
