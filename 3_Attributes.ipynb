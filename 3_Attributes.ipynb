{
 "cells": [
  {
   "cell_type": "code",
   "execution_count": 2,
   "id": "2d5c3285",
   "metadata": {},
   "outputs": [],
   "source": [
    "class Expense:\n",
    "    #class attribute\n",
    "    version=0.1\n",
    "    \n",
    "    def __init__(self,tracker,balance,budget):\n",
    "        self.tracker=tracker\n",
    "        self.balance=balance\n",
    "        self.budget=budget\n",
    "        \n",
    "        "
   ]
  },
  {
   "cell_type": "code",
   "execution_count": 6,
   "id": "351dcf30",
   "metadata": {},
   "outputs": [
    {
     "data": {
      "text/plain": [
       "'home'"
      ]
     },
     "execution_count": 6,
     "metadata": {},
     "output_type": "execute_result"
    }
   ],
   "source": [
    "my=Expense(\"home\",\"3000\",\"4000\")\n",
    "\n",
    "my.tracker"
   ]
  },
  {
   "cell_type": "code",
   "execution_count": 8,
   "id": "cd7a4991",
   "metadata": {},
   "outputs": [
    {
     "data": {
      "text/plain": [
       "'6000'"
      ]
     },
     "execution_count": 8,
     "metadata": {},
     "output_type": "execute_result"
    }
   ],
   "source": [
    "shop=Expense(\"shopping\",\"4000\",\"6000\")\n",
    "\n",
    "shop.budget"
   ]
  },
  {
   "cell_type": "code",
   "execution_count": 9,
   "id": "6cb70c2f",
   "metadata": {},
   "outputs": [
    {
     "data": {
      "text/plain": [
       "{'tracker': 'shopping', 'balance': '4000', 'budget': '6000'}"
      ]
     },
     "execution_count": 9,
     "metadata": {},
     "output_type": "execute_result"
    }
   ],
   "source": [
    "#show all the attribute for particular object\n",
    "\n",
    "shop.__dict__"
   ]
  },
  {
   "cell_type": "code",
   "execution_count": 10,
   "id": "75f02b9f",
   "metadata": {},
   "outputs": [
    {
     "data": {
      "text/plain": [
       "'3000'"
      ]
     },
     "execution_count": 10,
     "metadata": {},
     "output_type": "execute_result"
    }
   ],
   "source": [
    "#getattribute\n",
    "getattr(my,\"balance\")"
   ]
  },
  {
   "cell_type": "code",
   "execution_count": 11,
   "id": "c9a5c5ae",
   "metadata": {},
   "outputs": [
    {
     "data": {
      "text/plain": [
       "False"
      ]
     },
     "execution_count": 11,
     "metadata": {},
     "output_type": "execute_result"
    }
   ],
   "source": [
    "#has attribute return true and false\n",
    "\n",
    "hasattr(shop,\"ram\")"
   ]
  },
  {
   "cell_type": "code",
   "execution_count": 12,
   "id": "3d8f5924",
   "metadata": {},
   "outputs": [],
   "source": [
    "#delete attribute\n",
    "\n",
    "delattr(shop,\"balance\")"
   ]
  },
  {
   "cell_type": "code",
   "execution_count": 13,
   "id": "f34f9ca6",
   "metadata": {},
   "outputs": [
    {
     "data": {
      "text/plain": [
       "{'tracker': 'shopping', 'budget': '6000'}"
      ]
     },
     "execution_count": 13,
     "metadata": {},
     "output_type": "execute_result"
    }
   ],
   "source": [
    "shop.__dict__  #balance attribute is removed"
   ]
  }
 ],
 "metadata": {
  "kernelspec": {
   "display_name": "Python 3 (ipykernel)",
   "language": "python",
   "name": "python3"
  },
  "language_info": {
   "codemirror_mode": {
    "name": "ipython",
    "version": 3
   },
   "file_extension": ".py",
   "mimetype": "text/x-python",
   "name": "python",
   "nbconvert_exporter": "python",
   "pygments_lexer": "ipython3",
   "version": "3.9.13"
  }
 },
 "nbformat": 4,
 "nbformat_minor": 5
}
