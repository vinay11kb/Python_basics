{
 "cells": [
  {
   "cell_type": "code",
   "execution_count": 8,
   "id": "4b813ab0",
   "metadata": {},
   "outputs": [],
   "source": [
    "#parent \n",
    "class Vehicle:\n",
    "    current_year=2020\n",
    "    base_price=1000\n",
    "    def __init__(self,make,model,fuel):\n",
    "        self.make=make\n",
    "        \n",
    "        #add _ make them protected attribute\n",
    "        self._model=model\n",
    "        self._fuel=fuel\n",
    "        \n",
    "\n",
    "class car(Vehicle):\n",
    "    def __init__(self,make,model,fuel,AC,sunroof):\n",
    "        #use super\n",
    "        super(car,self).__init__(make,model,fuel)\n",
    "        \n",
    "        #make them protected by using _\n",
    "        self._AC=AC\n",
    "        self._sunroof=sunroof\n",
    " \n",
    " #multilevel\n",
    "class Electric(car):\n",
    "    def __init__(self,make,model,fuel,AC,sunroof,distance):\n",
    "        #access the init function of car\n",
    "        super(Electric,self).__init__(make,model,fuel,AC,sunroof)\n",
    "        \n",
    "        self.distance=distance\n",
    "    "
   ]
  },
  {
   "cell_type": "code",
   "execution_count": 10,
   "id": "5113f90e",
   "metadata": {},
   "outputs": [],
   "source": [
    "obj=Electric(\"tesla\",2022,\"electric\",True,True,500)"
   ]
  },
  {
   "cell_type": "code",
   "execution_count": 11,
   "id": "3d6ff260",
   "metadata": {},
   "outputs": [
    {
     "data": {
      "text/plain": [
       "{'make': 'tesla',\n",
       " '_model': 2022,\n",
       " '_fuel': 'electric',\n",
       " '_AC': True,\n",
       " '_sunroof': True,\n",
       " 'distance': 500}"
      ]
     },
     "execution_count": 11,
     "metadata": {},
     "output_type": "execute_result"
    }
   ],
   "source": [
    "obj.__dict__"
   ]
  }
 ],
 "metadata": {
  "kernelspec": {
   "display_name": "Python 3 (ipykernel)",
   "language": "python",
   "name": "python3"
  },
  "language_info": {
   "codemirror_mode": {
    "name": "ipython",
    "version": 3
   },
   "file_extension": ".py",
   "mimetype": "text/x-python",
   "name": "python",
   "nbconvert_exporter": "python",
   "pygments_lexer": "ipython3",
   "version": "3.9.13"
  }
 },
 "nbformat": 4,
 "nbformat_minor": 5
}
