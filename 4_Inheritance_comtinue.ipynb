{
 "cells": [
  {
   "cell_type": "code",
   "execution_count": 10,
   "id": "c0748b4e",
   "metadata": {},
   "outputs": [],
   "source": [
    "#super function\n",
    "\n",
    "#parent \n",
    "class Vehicle:\n",
    "    def __init__(self,make,model,fuel):\n",
    "        self.make=make\n",
    "        self.__model=model\n",
    "        self.__fuel=fuel\n",
    "    \n",
    "    def __pvt_meth(self):\n",
    "        print(\"this is private\")\n",
    "    "
   ]
  },
  {
   "cell_type": "code",
   "execution_count": 11,
   "id": "08f488ec",
   "metadata": {},
   "outputs": [],
   "source": [
    "#child class\n",
    "class car(Vehicle):\n",
    "    def __init__(self,make,model,fuel,AC,sunroof):\n",
    "        #use super\n",
    "        super(car,self).__init__(make,model,fuel)\n",
    "        \n",
    "        self.AC=AC\n",
    "        self.sunroof=sunroof\n",
    "        \n",
    "        def show_private(self):\n",
    "            self._Vehicle__pvt_meth()\n",
    "        "
   ]
  },
  {
   "cell_type": "code",
   "execution_count": 12,
   "id": "95bbccda",
   "metadata": {},
   "outputs": [],
   "source": [
    "obj=car(\"Tesla\",2020,\"Electric\",True,True)"
   ]
  },
  {
   "cell_type": "code",
   "execution_count": 7,
   "id": "d0bbf89b",
   "metadata": {},
   "outputs": [
    {
     "data": {
      "text/plain": [
       "{'make': 'Tesla',\n",
       " '_Vehicle__model': 2020,\n",
       " '_Vehicle__fuel': 'Electric',\n",
       " 'AC': True,\n",
       " 'sunroof': True}"
      ]
     },
     "execution_count": 7,
     "metadata": {},
     "output_type": "execute_result"
    }
   ],
   "source": [
    "obj.__dict__ #now we can see parent attributes also with the help of super"
   ]
  },
  {
   "cell_type": "code",
   "execution_count": 14,
   "id": "7bd3f4fe",
   "metadata": {},
   "outputs": [
    {
     "name": "stdout",
     "output_type": "stream",
     "text": [
      "this is private\n"
     ]
    }
   ],
   "source": [
    "#access private method directrly via super keyword\n",
    "obj._Vehicle__pvt_meth()"
   ]
  }
 ],
 "metadata": {
  "kernelspec": {
   "display_name": "Python 3 (ipykernel)",
   "language": "python",
   "name": "python3"
  },
  "language_info": {
   "codemirror_mode": {
    "name": "ipython",
    "version": 3
   },
   "file_extension": ".py",
   "mimetype": "text/x-python",
   "name": "python",
   "nbconvert_exporter": "python",
   "pygments_lexer": "ipython3",
   "version": "3.9.13"
  }
 },
 "nbformat": 4,
 "nbformat_minor": 5
}
